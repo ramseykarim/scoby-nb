{
 "cells": [
  {
   "cell_type": "markdown",
   "id": "a8fb728d",
   "metadata": {},
   "source": [
    "Here's how to use the `scoby` code! `scoby` (`S`pectra from `C`atalogs of `OB` stars) can help you make synthetic spectra and related products from real observed stellar catalogs. The spectra are based on the [PoWR](https://www.astro.physik.uni-potsdam.de/~wrh/PoWR/) models.\n",
    "\n",
    "This example will walk through making a G<sub>0</sub> map from an example catalog\n",
    "\n",
    "\n",
    "\n",
    "# Part 1: Converting a text catalog to a CatalogResolver object\n",
    "The first step is to create a CatalogResolver object using your stellar catalog table."
   ]
  },
  {
   "cell_type": "markdown",
   "id": "5cdbe8eb",
   "metadata": {},
   "source": [
    "The absolute first step is to import the package. You might have to alter this path depending on where you put this notebook. The path should point to the main repository directory."
   ]
  },
  {
   "cell_type": "code",
   "execution_count": null,
   "id": "8024dc58",
   "metadata": {},
   "outputs": [],
   "source": [
    "import sys\n",
    "# Can set up a temporary path to wherever the scoby code is \n",
    "sys.path.append('../scoby')\n",
    "\n",
    "import scoby\n",
    "print(scoby.__version__)"
   ]
  },
  {
   "cell_type": "markdown",
   "id": "0d6c892f",
   "metadata": {},
   "source": [
    "Load up a catalog as a DataFrame. Getting your catalog to this point is not trivial, and it is often a very case-specific process so I couldn't write much generalizable code to help with this. There are some potentially helpful example functions in `scoby.parsing_utils`.\n",
    "\n",
    "This notebook uses a catalog that is more or less ready to go. These first few cells will show a little bit of catalog processing and reduction using `pandas`."
   ]
  },
  {
   "cell_type": "code",
   "execution_count": null,
   "id": "bf1d5cc4",
   "metadata": {
    "scrolled": true
   },
   "outputs": [],
   "source": [
    "import os\n",
    "import scoby.config\n",
    "# This creates a Pandas DataFrame, which is a convenient way to work with catalogs\n",
    "# The test cluster is Westerlund 2, in the region RCW 49\n",
    "df = scoby.config.load_test_data()\n",
    "\n",
    "# Make some adjustments to the DataFrame\n",
    "del df['MSP']\n",
    "df.rename(columns={'Unnamed: 0': 'ID'}, inplace=True)\n",
    "df.set_index(\"ID\", inplace=True)\n",
    "df = df[df['SpectralType']!='ET']\n",
    "\n",
    "# Show the table\n",
    "df"
   ]
  },
  {
   "cell_type": "code",
   "execution_count": null,
   "id": "b34fc58d",
   "metadata": {
    "scrolled": true
   },
   "outputs": [],
   "source": [
    "# Convert the coordinates to SkyCoord objects\n",
    "from astropy.coordinates import SkyCoord\n",
    "\n",
    "df['SkyCoord'] = df.filter(['RAdeg', 'DEdeg']).apply(lambda row : SkyCoord(row.RAdeg, row.DEdeg, unit='deg'), axis=1)\n",
    "df"
   ]
  },
  {
   "cell_type": "code",
   "execution_count": null,
   "id": "0d1e49d3",
   "metadata": {
    "scrolled": true
   },
   "outputs": [],
   "source": [
    "# Filter out faraway stars\n",
    "from astropy import units as u\n",
    "\n",
    "center_coord = SkyCoord(\"10 23 58.1 -57 45 49\", unit=(u.hourangle, u.deg), frame='fk5') # Specific to this cluster\n",
    "def within_5_arcmin(coord):\n",
    "    return coord.separation(center_coord) < 5*u.arcmin\n",
    "\n",
    "df = df[df['SkyCoord'].apply(within_5_arcmin)]\n",
    "df"
   ]
  },
  {
   "cell_type": "markdown",
   "id": "fbeab5bf",
   "metadata": {},
   "source": [
    "Now we can convert to a `CatalogResolver` object, which `scoby` provides to represent a catalog of stars."
   ]
  },
  {
   "cell_type": "code",
   "execution_count": null,
   "id": "07cb274f",
   "metadata": {},
   "outputs": [],
   "source": [
    "# First load up the 3 sets of tables that make the CatalogResolver function: Leitherer, Martins, and PoWR\n",
    "# Load up PoWR models\n",
    "powr_tables = {x: scoby.spectral.powr.PoWRGrid(x) for x in ('OB', 'WNL-H50', 'WNL')}\n",
    "# Load up Martins+2005 calibration tables\n",
    "calibration_tables = scoby.spectral.sttable.STTable(*scoby.spectral.martins.load_tables_df())\n",
    "# Load up Leitherer tables\n",
    "ltables = scoby.spectral.leitherer.LeithererTable()\n",
    "\n",
    "# Create CatalogReslover and initialize with these tables\n",
    "# This uses the \"SpectralType\" column in this case -- all it needs are a list of string spectral types\n",
    "catr = scoby.spectral.stresolver.CatalogResolver(df['SpectralType'].values,\n",
    "                                                 calibration_table=calibration_tables,\n",
    "                                                 leitherer_table=ltables,\n",
    "                                                 powr_dict=powr_tables)\n",
    "# At this point, every star has been connected to a PoWR model"
   ]
  },
  {
   "cell_type": "code",
   "execution_count": null,
   "id": "8cc7cd5e",
   "metadata": {},
   "outputs": [],
   "source": [
    "print(catr)"
   ]
  },
  {
   "cell_type": "code",
   "execution_count": null,
   "id": "83006316",
   "metadata": {
    "scrolled": true
   },
   "outputs": [],
   "source": [
    "for star in catr:\n",
    "    print(star)"
   ]
  },
  {
   "cell_type": "markdown",
   "id": "c4c32c65",
   "metadata": {},
   "source": [
    "## 1.1: Obtain basic cluster properties\n",
    "Once we have made the CatalogResolver, we can start querying cluster properties.\n",
    "Single-value quantities (like total mass, total FUV luminosity, etc) are the easiest to get.\n",
    "By default, `scoby` handles uncertainty in the stated spectral type and adds an additional half-type uncertainty to main sequence stars. WR star unceratainty can be handled too, but that gets a little more case-specific."
   ]
  },
  {
   "cell_type": "code",
   "execution_count": null,
   "id": "c5ff316e",
   "metadata": {},
   "outputs": [],
   "source": [
    "# Mass loss rate (median and uncertainty)\n",
    "mdot_median, mdot_unc = catr.get_mass_loss_rate()\n",
    "# Momentum flux\n",
    "mvflux_median, mvflux_unc = catr.get_momentum_flux()\n",
    "# Mechanical luminosity from winds\n",
    "ke_median, ke_unc = catr.get_mechanical_luminosity()\n",
    "# FUV luminosity (I called this flux in the function, might have to go in and fix that)\n",
    "fuv_median, fuv_unc = catr.get_FUV_flux()\n",
    "# Ionizing luminosity\n",
    "ionizing_median, ionizing_unc = catr.get_ionizing_flux()\n",
    "# Total cluster mass\n",
    "mass_median, mass_unc = catr.get_stellar_mass()\n",
    "# Bolometric luminosity\n",
    "lum_median, lum_unc = catr.get_bolometric_luminosity()"
   ]
  },
  {
   "cell_type": "code",
   "execution_count": null,
   "id": "2e41ce80",
   "metadata": {},
   "outputs": [],
   "source": [
    "# Helper function to print these values\n",
    "def print_val_err(val: u.Quantity, err: tuple[u.Quantity, u.Quantity], exp=True, extra_f=None):\n",
    "    \"\"\"\n",
    "    :param val: the median value\n",
    "    :param err: tuple(low value, high value) representing uncertainty bounds\n",
    "        The errors I am working with are stated as \"-low, +high\"\n",
    "        If you subtract low value, you get the 16% value\n",
    "        If you add the high value, you get the 84% value\n",
    "        The median is the 50% value\n",
    "    :param exp: show the numbers in exponential notation (10000 -> 1E+4)\n",
    "    :param extra_f: some callable to be applied to every value before it is printed\n",
    "        This could be anything that will still return a Quantity.\n",
    "    \"\"\"\n",
    "    if extra_f is None:\n",
    "        extra_f = lambda x : x # identity function\n",
    "    val = f\"{extra_f(val):.2E}\" if exp else f\"{extra_f(val):.2f}\"\n",
    "    str_func = lambda x : f\"{extra_f(x).to_value():+.1E}\" if exp else f\"{extra_f(x).to_value():+.1f}\"\n",
    "    lo, hi = (str_func(x) for x in err)\n",
    "    return f\"{val} [{lo}, {hi}]\""
   ]
  },
  {
   "cell_type": "code",
   "execution_count": null,
   "id": "36bfd52e",
   "metadata": {},
   "outputs": [],
   "source": [
    "# Print all values and make some combo values\n",
    "print(f\"MASS LOSS: {print_val_err(mdot_median, mdot_unc)}\")\n",
    "print(f\"MV FLUX:  {print_val_err(mvflux_median, mvflux_unc)}\")\n",
    "print(f\"MECH LUM:  {print_val_err(ke_median, ke_unc, extra_f=lambda x: x.to(u.erg/u.s))}\")\n",
    "print(f\"FUV LUM:   {print_val_err(fuv_median, fuv_unc)}\") # extra_f=lambda x: x.to(u.erg/u.s)\n",
    "print(f\"IONIZING PHOTON FLUX: {print_val_err(ionizing_median, ionizing_unc)}\") # units should be 1/time\n",
    "print(f\"STELLAR MASS: {print_val_err(mass_median, mass_unc)}\")\n",
    "print(f\"LUMINOSITY:   {print_val_err(lum_median, lum_unc)}\")\n",
    "print(f\"MECH/FUV LUM ratio: {(ke_median/fuv_median).decompose():.1E}; MECH/total LUM ratio: {(ke_median/lum_median).decompose():.1E}\")"
   ]
  },
  {
   "cell_type": "markdown",
   "id": "a346d472",
   "metadata": {},
   "source": [
    "You could also get values for each star to check which ones dominate each property."
   ]
  },
  {
   "cell_type": "code",
   "execution_count": null,
   "id": "ea75a451",
   "metadata": {
    "scrolled": true
   },
   "outputs": [],
   "source": [
    "# Get an array of mass values -- good proxy for how well we connected spectral types to models\n",
    "mass_array = catr.get_array_stellar_mass()\n",
    "# This is returned as a list (not array, whoops) with length equal to the number of stars.\n",
    "# Each element is a tuple[median, [low, high]]\n",
    "for (med, (lo, hi)), star in zip(mass_array, catr):\n",
    "    print(f\"{str(star):.<30}{med.to_value():.>6.1f} {str(med.unit)} ({lo.to_value():.1f}, {hi.to_value():.1f})\")"
   ]
  },
  {
   "cell_type": "markdown",
   "id": "87dc07f2",
   "metadata": {},
   "source": [
    "# Part 2: G<sub>0</sub> Map\n",
    "We can try a more complex product: the G<sub>0</sub> map.\n",
    "The code to do a lot of this work isn't actually in `scoby` but probably should be."
   ]
  },
  {
   "cell_type": "code",
   "execution_count": null,
   "id": "e5ae615a",
   "metadata": {},
   "outputs": [],
   "source": [
    "# First, make a WCS grid for this map\n",
    "# I am using my custom \"center coordinate\"\n",
    "center_coord = SkyCoord(\"10 23 58.1 -57 45 49\", unit=(u.hourangle, u.deg), frame='fk5') # Specific to this cluster\n",
    "# Make a 100-pixel/side grid with pixel size such that the image is a few arcmin on a side\n",
    "side_length_pix = 100  # pixels\n",
    "side_length_angle = 8*u.arcmin\n",
    "pixel_scale = (side_length_angle / side_length_pix).to(u.deg).to_value()\n",
    "\n",
    "from astropy.wcs import WCS\n",
    "wcs_keywords = {\n",
    "    'NAXIS': (2, \"Number of axes\"),\n",
    "    'NAXIS1': (side_length_pix, \"X (j) axis length\"), 'NAXIS2': (side_length_pix, \"Y (i) axis length\"),\n",
    "    'RADESYS': 'FK5',\n",
    "    'CTYPE1': ('RA---TAN', \"RA projection type\"), 'CTYPE2': ('DEC--TAN', \"DEC projection type\"),\n",
    "\n",
    "    'CRPIX1': (side_length_pix//2, \"[pix] Image reference point\"),\n",
    "    'CRPIX2': (side_length_pix//2, \"[pix] Image reference point\"),\n",
    "\n",
    "    'CRVAL1': (center_coord.ra.deg, \"[deg] RA of reference point\"),\n",
    "    'CRVAL2': (center_coord.dec.deg, \"[deg] DEC of reference point\"),\n",
    "\n",
    "    'CDELT1': -1*pixel_scale, # RA increases to the left, so CDELT1 is negative\n",
    "    'CDELT2': pixel_scale,\n",
    "\n",
    "    'PA': (0, \"[deg] Position angle of axis 2 (E of N)\"),\n",
    "    'EQUINOX': (2000., \"[yr] Equatorial coordinates definition\"),\n",
    "}\n",
    "image_wcs = WCS(wcs_keywords)"
   ]
  },
  {
   "cell_type": "code",
   "execution_count": null,
   "id": "14e94147",
   "metadata": {},
   "outputs": [],
   "source": [
    "# Define Habing unit (standard unit for G0 values)\n",
    "radiation_field_1d = 1.6e-3 * u.erg / (u.cm**2 * u.s)"
   ]
  },
  {
   "cell_type": "code",
   "execution_count": null,
   "id": "d97ff8d2",
   "metadata": {},
   "outputs": [],
   "source": [
    "import numpy as np\n",
    "\n",
    "# Line-of-sight distance to this cluster\n",
    "observer_distance = 4.16*u.kpc\n",
    "\n",
    "# Make function to create the map of inverse square distance, a useful quantity here\n",
    "def inv_dist_func(coord):\n",
    "    # I already have a utility function for a lot of this work\n",
    "    return 1./(4*np.pi * scoby.utils.distance_from_point_pixelgrid(coord, image_wcs, observer_distance)**2.)\n",
    "\n",
    "# Apply function to each star, creating a 2D image array of 1 / (4pi r^2) for each star\n",
    "inv_distance_arrays = u.Quantity(list(df['SkyCoord'].apply(inv_dist_func).values))"
   ]
  },
  {
   "cell_type": "code",
   "execution_count": null,
   "id": "22dbe2e7",
   "metadata": {},
   "outputs": [],
   "source": [
    "inv_distance_arrays.shape # 37 stars, each has an image of 1/(4pi r^2)"
   ]
  },
  {
   "cell_type": "code",
   "execution_count": null,
   "id": "f3c99880",
   "metadata": {},
   "outputs": [],
   "source": [
    "# Make a function to apply to the cluster's list of integrated flux values\n",
    "# This will be applied to each realization of the cluster's integrated flux values\n",
    "# since we bootstrap to get the map's uncertainty\n",
    "def illumination_distance(flux_array):\n",
    "    # Given a 1D array of flux values (one for each star), multiply by the 1/(4pi r^2) array\n",
    "    # This will yield (flux / 4pi r^2) for each star at each pixel\n",
    "    return inv_distance_arrays * flux_array[:, np.newaxis, np.newaxis]"
   ]
  },
  {
   "cell_type": "code",
   "execution_count": null,
   "id": "6f8fe8e2",
   "metadata": {},
   "outputs": [],
   "source": [
    "# Use CatalogResolver to apply this function to FUV flux values\n",
    "# CatalogResolver will do a bunch of error estimation as well\n",
    "value, uncertainty = catr.get_FUV_flux(map_function=illumination_distance)"
   ]
  },
  {
   "cell_type": "code",
   "execution_count": null,
   "id": "9f5c601f",
   "metadata": {},
   "outputs": [],
   "source": [
    "# Convert units\n",
    "def fix_units(x):\n",
    "    # Convert the solLum/kpc^2 units to Habing units\n",
    "    return (x / radiation_field_1d).decompose()\n",
    "\n",
    "value = fix_units(value)\n",
    "uncertainty = tuple(fix_units(x) for x in uncertainty)"
   ]
  },
  {
   "cell_type": "code",
   "execution_count": null,
   "id": "d3849a16",
   "metadata": {},
   "outputs": [],
   "source": [
    "import matplotlib.pyplot as plt\n",
    "%matplotlib inline"
   ]
  },
  {
   "cell_type": "code",
   "execution_count": null,
   "id": "7067db2c",
   "metadata": {},
   "outputs": [],
   "source": [
    "plt.subplot(111, projection=image_wcs)\n",
    "plt.imshow(np.log10(value), origin='lower', vmin=3, vmax=6)\n",
    "plt.colorbar(label='log$_{10}$ $G_0$ (Habing units)')\n",
    "plt.title(\"G$_0$ map of Westerlund 2\");"
   ]
  },
  {
   "cell_type": "markdown",
   "id": "6d24edb8",
   "metadata": {},
   "source": [
    "You can also plot the error bars as images. There are some interesting patterns that I have not thought much about or looked into.\n",
    "\n",
    "The uncertainty on this map is approximately 10%."
   ]
  },
  {
   "cell_type": "code",
   "execution_count": null,
   "id": "9fb3193d",
   "metadata": {},
   "outputs": [],
   "source": [
    "plt.figure(figsize=(16, 5))\n",
    "plt.subplot(121, projection=image_wcs)\n",
    "plt.imshow(np.log10(np.abs(uncertainty[0])), vmin=2, vmax=5)\n",
    "plt.title(\"Uncertainty lower bound\")\n",
    "plt.subplot(122, projection=image_wcs)\n",
    "plt.imshow(np.log10(np.abs(uncertainty[0])), vmin=2, vmax=5)\n",
    "plt.title(\"Uncertainty upper bound\")\n",
    "plt.colorbar();"
   ]
  }
 ],
 "metadata": {
  "kernelspec": {
   "display_name": "Python 3 (ipykernel)",
   "language": "python",
   "name": "python3"
  },
  "language_info": {
   "codemirror_mode": {
    "name": "ipython",
    "version": 3
   },
   "file_extension": ".py",
   "mimetype": "text/x-python",
   "name": "python",
   "nbconvert_exporter": "python",
   "pygments_lexer": "ipython3",
   "version": "3.9.7"
  }
 },
 "nbformat": 4,
 "nbformat_minor": 5
}
